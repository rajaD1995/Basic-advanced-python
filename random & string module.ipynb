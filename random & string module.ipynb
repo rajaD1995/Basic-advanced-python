{
 "cells": [
  {
   "cell_type": "markdown",
   "id": "09e5aa71",
   "metadata": {},
   "source": [
    "# 🔐 Generating a Secure Random Password"
   ]
  },
  {
   "cell_type": "code",
   "execution_count": 14,
   "id": "4d6d32f8",
   "metadata": {},
   "outputs": [
    {
     "name": "stdout",
     "output_type": "stream",
     "text": [
      "Wkgh|;@KMM=c\n"
     ]
    }
   ],
   "source": [
    "# ascii_letters: a to z, A to Z\n",
    "# digits: 0 to 9\n",
    "# punctuation: Special charecters\n",
    "\n",
    "import random\n",
    "import string\n",
    "\n",
    "def generate_password(length=12):\n",
    "    characters = string.ascii_letters + string.digits + string.punctuation\n",
    "    return ''.join(random.choices(characters, k=length))\n",
    "\n",
    "print(generate_password())\n"
   ]
  },
  {
   "cell_type": "code",
   "execution_count": 3,
   "id": "1996e1dc",
   "metadata": {},
   "outputs": [
    {
     "data": {
      "text/plain": [
       "'abcdefghijklmnopqrstuvwxyzABCDEFGHIJKLMNOPQRSTUVWXYZ'"
      ]
     },
     "execution_count": 3,
     "metadata": {},
     "output_type": "execute_result"
    }
   ],
   "source": [
    "string.ascii_letters"
   ]
  },
  {
   "cell_type": "code",
   "execution_count": 4,
   "id": "b532b616",
   "metadata": {},
   "outputs": [
    {
     "data": {
      "text/plain": [
       "'0123456789'"
      ]
     },
     "execution_count": 4,
     "metadata": {},
     "output_type": "execute_result"
    }
   ],
   "source": [
    "string.digits"
   ]
  },
  {
   "cell_type": "code",
   "execution_count": 5,
   "id": "6af22052",
   "metadata": {},
   "outputs": [
    {
     "data": {
      "text/plain": [
       "'!\"#$%&\\'()*+,-./:;<=>?@[\\\\]^_`{|}~'"
      ]
     },
     "execution_count": 5,
     "metadata": {},
     "output_type": "execute_result"
    }
   ],
   "source": [
    "string.punctuation"
   ]
  },
  {
   "cell_type": "markdown",
   "id": "9b519964",
   "metadata": {},
   "source": [
    "# 📧 Generating Random Email Addresses"
   ]
  },
  {
   "cell_type": "markdown",
   "id": "180a69c8",
   "metadata": {},
   "source": [
    "1. random.choices(group of random charecters either come from user created list or string modulw,\n",
    "                  k=number random charectrs we want)"
   ]
  },
  {
   "cell_type": "code",
   "execution_count": 26,
   "id": "004d84cf",
   "metadata": {},
   "outputs": [
    {
     "name": "stdout",
     "output_type": "stream",
     "text": [
      "brbmlsvs@outlook.com\n"
     ]
    }
   ],
   "source": [
    "import random\n",
    "import string\n",
    "\n",
    "def random_email():\n",
    "    domains = [\"gmail.com\", \"yahoo.com\", \"outlook.com\"]\n",
    "    name = ''.join(random.choices(string.ascii_lowercase, k=8))\n",
    "    return f\"{name}@{random.choice(domains)}\"\n",
    "\n",
    "print(random_email())"
   ]
  },
  {
   "cell_type": "markdown",
   "id": "3d2b9926",
   "metadata": {},
   "source": [
    "# 🎲 Simulating a Dice Roll"
   ]
  },
  {
   "cell_type": "code",
   "execution_count": 27,
   "id": "e862723c",
   "metadata": {},
   "outputs": [
    {
     "name": "stdout",
     "output_type": "stream",
     "text": [
      "🎲 You rolled: 3\n"
     ]
    }
   ],
   "source": [
    "import random\n",
    "print(\"🎲 You rolled:\", random.randint(1, 6))\n"
   ]
  },
  {
   "cell_type": "markdown",
   "id": "a7925228",
   "metadata": {},
   "source": [
    "# 🎶 Shuffling a List of Songs"
   ]
  },
  {
   "cell_type": "code",
   "execution_count": 28,
   "id": "79c13f69",
   "metadata": {},
   "outputs": [
    {
     "name": "stdout",
     "output_type": "stream",
     "text": [
      "Shuffled Playlist: ['Song B', 'Song A', 'Song C', 'Song D']\n"
     ]
    }
   ],
   "source": [
    "import random\n",
    "\n",
    "songs = [\"Song A\", \"Song B\", \"Song C\", \"Song D\"]\n",
    "random.shuffle(songs)\n",
    "print(\"Shuffled Playlist:\", songs)\n"
   ]
  },
  {
   "cell_type": "code",
   "execution_count": 6,
   "id": "bbaf4656",
   "metadata": {},
   "outputs": [
    {
     "name": "stdout",
     "output_type": "stream",
     "text": [
      "🦾 Your 12 charcters password is: Pw8<((4fB5Ws\n"
     ]
    }
   ],
   "source": [
    "import random\n",
    "import string\n",
    "def generate_password(length=12):\n",
    "    \"\"\"Generate a secure random password.\"\"\"\n",
    "    all_chars = string.ascii_letters + string.digits + string.punctuation\n",
    "    password = random.choices(string.ascii_uppercase, k=2)  # At least 2 uppercase letters\n",
    "    password += random.choices(string.ascii_lowercase, k=3)  # At least 3 lowercase letters\n",
    "    password += random.choices(string.digits, k=2)  # At least 2 digits\n",
    "    password += random.choices(string.punctuation, k=2)  # At least 2 special characters\n",
    "    password += random.choices(all_chars, k=length - len(password))  # Fill remaining length\n",
    "    \n",
    "    random.shuffle(password)  # Shuffle to make it random\n",
    "    return ''.join(password)\n",
    "print(f\"🦾 Your 12 charcters password is: {generate_password()}\")"
   ]
  },
  {
   "cell_type": "code",
   "execution_count": 3,
   "id": "370f7c45",
   "metadata": {},
   "outputs": [
    {
     "name": "stdout",
     "output_type": "stream",
     "text": [
      "Please selecr \"c\" for code and \"d\" for decode: j\n",
      "Please enter either \"c\" or \"d\"\n",
      "Please selecr \"c\" for code and \"d\" for decode: c\n",
      "Enter the sentence you want to code: Raja debnath is the handeler. Give him the bomb.\n",
      "XagajaRTKf laMebnathdcBU gKHsiPQT xZChetFZJ BQoandeler.hlfp HmTiveGYhv EtBimhTjA CrLhetljF rmiomb.bbxL\n"
     ]
    }
   ],
   "source": [
    "import random\n",
    "import string\n",
    "while True:   #error handeling.user input is not c or d then it keep asking for correct input. as no break after last else.\n",
    "    code_decode = input(\"Please selecr \\\"c\\\" for code and \\\"d\\\" for decode: \").lower()\n",
    "\n",
    "    if code_decode == \"c\":\n",
    "        k=\"\"\n",
    "        random_char=\"\"\n",
    "        random_char1=\"\"\n",
    "        code_name=input(\"Enter the sentence you want to code: \")\n",
    "        code_name_list=code_name.split(\" \")    #converting sentence into list on the basis of space.\n",
    "        k_code=[]\n",
    "\n",
    "        for i in code_name_list:\n",
    "            if len(i)>2:\n",
    "                k=i[0]  #extracting 1st charcter.\n",
    "                i=i[1:len(i)]     #slicing---> excluding 1st charcter.\n",
    "                i=i+k   #adding 1st char in the last.       \n",
    "                random_char=\"\" \n",
    "                for j in range(1,7):\n",
    "                    random_char = random_char + random.choice(string.ascii_letters)  #create random charecters\n",
    "                    j+=1\n",
    "                    # print(random_char)\n",
    "\n",
    "                i = random_char[0:3] + i + random_char[3:6]\n",
    "                k_code.append(i)      #adding into a list.\n",
    "\n",
    "            else:\n",
    "                i=i[::-1]       #slicing---> reversing the string.\n",
    "                random_char1=\"\" \n",
    "                for p in range(1,7):\n",
    "                    random_char1 = random_char1 + random.choice(string.ascii_letters)\n",
    "                    p += 1\n",
    "                    # print(random_char)\n",
    "\n",
    "                i = random_char1[0:3] + i + random_char1[3:6]\n",
    "                k_code.append(i)      #adding into a list.\n",
    "\n",
    "        sentence = \" \".join(k_code[:])     #converting list to sentece\n",
    "        print(sentence)\n",
    "        break     #after coding the while loop will break and we will be out of code.\n",
    "\n",
    "    elif code_decode == \"d\":\n",
    "\n",
    "        code_name=input(\"Enter the sentence you want to code: \")\n",
    "        code_name_list=code_name.split(\" \")    #converting sentence into list on the basis of space.\n",
    "        k_code=[]\n",
    "\n",
    "        for i in code_name_list:\n",
    "            if len(i)>2:\n",
    "                i=i[3:len(i)-3]     #slicing---> excluding 1st 3 charcters & last 3 charecters.\n",
    "                k=i[-1]   #storing last charecter.       \n",
    "                i=k+i[:-1]    #adding last charecter in the first & excluding last charecter. ajaR --> Raja\n",
    "\n",
    "                k_code.append(i)      #adding into a list.\n",
    "\n",
    "            else:\n",
    "                i=i[3:len(i)-3]     #slicing---> excluding 1st 3 charcters & last 3 charecters.\n",
    "                i=i[::-1]           #slicing---> reversing the string.\n",
    "\n",
    "                k_code.append(i)      #adding into a list.\n",
    "\n",
    "        sentence = \" \".join(k_code[:])     #converting list to sentece\n",
    "        print(sentence)\n",
    "        break     #after decoding the while loop will break and we will be out of code.\n",
    "    else:\n",
    "        print(\"Please enter either \\\"c\\\" or \\\"d\\\"\")"
   ]
  },
  {
   "cell_type": "code",
   "execution_count": 37,
   "id": "08d131e0",
   "metadata": {
    "scrolled": false
   },
   "outputs": [
    {
     "name": "stdout",
     "output_type": "stream",
     "text": [
      "cWKajaRfbc Tdqebnathddbh vTRsiUrw vsUhetVoN ISoandeler.hYnr NwziveGHOu pocimhaiB xcAhetSoW qkromb.bvdC\n",
      "Raja debnath is the handeler. Give him the bomb.\n"
     ]
    }
   ],
   "source": [
    "k=\"\"\"cWKajaRfbc Tdqebnathddbh vTRsiUrw vsUhetVoN ISoandeler.hYnr NwziveGHOu pocimhaiB xcAhetSoW qkromb.bvdC\n",
    "Raja debnath is the handeler. Give him the bomb.\"\"\"\n",
    "print(k)\n"
   ]
  },
  {
   "cell_type": "code",
   "execution_count": 3,
   "id": "b1f0efbd",
   "metadata": {},
   "outputs": [
    {
     "name": "stdout",
     "output_type": "stream",
     "text": [
      "Please select \"c\" for code and \"d\" for decode: p\n",
      "⚠️ Please enter either \"c\" for encode or \"d\" for decode.\n",
      "Please select \"c\" for code and \"d\" for decode: c\n",
      "Enter the sentence you want to encode: Raja debnath is the handeler. Give him the bomb.\n",
      "Encoded Sentence: puMajaRIsi BVSebnathdkkn bzBsiucN WLrhetfCK TmPandeler.hoYF BWfiveGfWC RAvimhnEf Mpnhetvwo wILomb.bUPs\n"
     ]
    }
   ],
   "source": [
    "import random\n",
    "import string\n",
    "\n",
    "def generate_random_chars():\n",
    "    \"\"\"Generate 6 random letters.\"\"\"\n",
    "    return ''.join(random.choices(string.ascii_letters, k=6))\n",
    "\n",
    "while True:\n",
    "    code_decode = input(\"Please select \\\"c\\\" for code and \\\"d\\\" for decode: \").lower()\n",
    "\n",
    "    if code_decode == \"c\":\n",
    "        code_name = input(\"Enter the sentence you want to encode: \")\n",
    "        words = code_name.split()  # Split sentence into words\n",
    "        encoded_words = []\n",
    "\n",
    "        for word in words:\n",
    "            random_chars = generate_random_chars()\n",
    "            if len(word) > 2:\n",
    "                encoded_word = random_chars[:3] + word[1:] + word[0] + random_chars[3:]\n",
    "            else:\n",
    "                encoded_word = random_chars[:3] + word[::-1] + random_chars[3:]\n",
    "\n",
    "            encoded_words.append(encoded_word)\n",
    "\n",
    "        print(\"Encoded Sentence:\", \" \".join(encoded_words))\n",
    "        break  # Exit loop after encoding\n",
    "\n",
    "    elif code_decode == \"d\":\n",
    "        code_name = input(\"Enter the encoded sentence you want to decode: \")\n",
    "        words = code_name.split()\n",
    "        decoded_words = []\n",
    "\n",
    "        for word in words:\n",
    "            core_word = word[3:-3]  # Remove the first and last 3 characters\n",
    "            if len(core_word) > 2:\n",
    "                decoded_word = core_word[-1] + core_word[:-1]\n",
    "            else:\n",
    "                decoded_word = core_word[::-1]  # Reverse for short words\n",
    "\n",
    "            decoded_words.append(decoded_word)\n",
    "\n",
    "        print(\"Decoded Sentence:\", \" \".join(decoded_words))\n",
    "        break  # Exit loop after decoding\n",
    "\n",
    "    else:\n",
    "        print(\"⚠️ Please enter either \\\"c\\\" for encode or \\\"d\\\" for decode.\")\n"
   ]
  },
  {
   "cell_type": "code",
   "execution_count": 6,
   "id": "00782286",
   "metadata": {},
   "outputs": [
    {
     "data": {
      "text/plain": [
       "'CcCMQl'"
      ]
     },
     "execution_count": 6,
     "metadata": {},
     "output_type": "execute_result"
    }
   ],
   "source": [
    "#when we want a number of random words.\n",
    "import random\n",
    "import string\n",
    "k = ''.join(random.choices(string.ascii_letters, k=6))\n",
    "k"
   ]
  },
  {
   "cell_type": "code",
   "execution_count": 11,
   "id": "f2534d50",
   "metadata": {},
   "outputs": [
    {
     "data": {
      "text/plain": [
       "'DBalAK'"
      ]
     },
     "execution_count": 11,
     "metadata": {},
     "output_type": "execute_result"
    }
   ],
   "source": [
    " random_char=\"\" \n",
    "for j in range(1,7):\n",
    "    random_char = random_char + random.choice(string.ascii_letters)  #create random charecters\n",
    "    j+=1\n",
    "    # print(random_char)\n",
    "random_char"
   ]
  },
  {
   "cell_type": "markdown",
   "id": "644aa4a9",
   "metadata": {},
   "source": [
    "Features\n",
    "1. Generates a unique username (random + meaningful)\n",
    "2. Creates a strong password (mix of letters, numbers, and symbols)\n",
    "3. Ensures password strength (at least one uppercase, one lowercase, one digit, one special character)\n",
    "3. Provides an option to generate multiple usernames & passwords"
   ]
  },
  {
   "cell_type": "code",
   "execution_count": 32,
   "id": "bafb5fa3",
   "metadata": {},
   "outputs": [
    {
     "name": "stdout",
     "output_type": "stream",
     "text": [
      "💡 Welcome to the Username & Password Generator! 💡\n",
      "Enter the number of usernames & passwords to generate: 2\n",
      "\n",
      "🆔 Username: Ishita676@gmail.com\n",
      "🔑 Password: F69/~6pPjxst\n",
      "\n",
      "🆔 Username: Divya396@gmail.com\n",
      "🔑 Password: w0Oq\\NpE7z;|\n",
      "\n",
      "🎉 Generation Complete! Keep your credentials safe.\n"
     ]
    }
   ],
   "source": [
    "import random\n",
    "import string\n",
    "\n",
    "def generate_username():\n",
    "    \"\"\"Generate a random username with a mix of words and numbers.\"\"\"\n",
    "    words = [\"Aryan\", \"Daksh\", \"Ishaan\", \"Rishi\", \"Kiran\", \"Shivam\", \"Dev\", \"Nihar\", \"Tanish\", \"Yuvan\",\n",
    "    \"Aditya\", \"Akash\", \"Arjun\", \"Harsh\", \"Karthik\", \"Manish\", \"Rahul\", \"Sandeep\", \"Varun\", \"Vikram\",\n",
    "    \"Ananya\", \"Divya\", \"Ishita\", \"Kavya\", \"Meera\", \"Nandini\", \"Priya\", \"Sneha\", \"Tanya\", \"Vaishnavi\"]\n",
    "    number = random.randint(100, 1001)\n",
    "    return random.choice(words) + str(number)\n",
    "\n",
    "def generate_password(length=12):\n",
    "    \"\"\"Generate a secure random password.\"\"\"\n",
    "    if length < 8:\n",
    "        print(\"Password length should be at least 8 characters for security.\")\n",
    "        return None\n",
    "\n",
    "    all_chars = string.ascii_letters + string.digits + string.punctuation\n",
    "    password = random.choices(string.ascii_uppercase, k=2)  # At least 2 uppercase letters\n",
    "    password += random.choices(string.ascii_lowercase, k=3)  # At least 3 lowercase letters\n",
    "    password += random.choices(string.digits, k=2)  # At least 2 digits\n",
    "    password += random.choices(string.punctuation, k=2)  # At least 2 special characters\n",
    "    password += random.choices(all_chars, k=length - len(password))  # Fill remaining length\n",
    "    \n",
    "    random.shuffle(password)  # Shuffle to make it random\n",
    "    return ''.join(password)\n",
    "\n",
    "def main():\n",
    "    print(\"Welcome to the Username & Password Generator!\")\n",
    "    \n",
    "    num_accounts = int(input(\"Enter the number of usernames & passwords to generate: \"))\n",
    "    \n",
    "    for i in range(num_accounts):\n",
    "        username = generate_username() + '@gmail.com'\n",
    "        password = generate_password()\n",
    "        print(f\"\\n🆔 Username: {username}\")\n",
    "        print(f\"🔑 Password: {password}\")\n",
    "    \n",
    "    print(\"\\n🎉 Generation Complete! Keep your credentials safe.\")\n",
    "\n",
    "if __name__ == \"__main__\":\n",
    "    main()\n"
   ]
  },
  {
   "cell_type": "code",
   "execution_count": null,
   "id": "4f37ae98",
   "metadata": {},
   "outputs": [],
   "source": []
  }
 ],
 "metadata": {
  "kernelspec": {
   "display_name": "Python 3 (ipykernel)",
   "language": "python",
   "name": "python3"
  },
  "language_info": {
   "codemirror_mode": {
    "name": "ipython",
    "version": 3
   },
   "file_extension": ".py",
   "mimetype": "text/x-python",
   "name": "python",
   "nbconvert_exporter": "python",
   "pygments_lexer": "ipython3",
   "version": "3.11.5"
  }
 },
 "nbformat": 4,
 "nbformat_minor": 5
}
