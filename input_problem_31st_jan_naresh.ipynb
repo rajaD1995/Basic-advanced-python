{
 "cells": [
  {
   "cell_type": "markdown",
   "id": "819774ec",
   "metadata": {},
   "source": [
    "#  How can you take multiple space-separated values as input?"
   ]
  },
  {
   "cell_type": "code",
   "execution_count": 1,
   "id": "5460b99c",
   "metadata": {},
   "outputs": [
    {
     "name": "stdout",
     "output_type": "stream",
     "text": [
      "Please enter a sentence: raja debnath.\n",
      "['raja', 'debnath.']\n"
     ]
    }
   ],
   "source": [
    "k = print(input(\"Please enter a sentence: \").split())"
   ]
  },
  {
   "cell_type": "markdown",
   "id": "c70318a1",
   "metadata": {},
   "source": [
    "# 5. How do you check if a number entered by the user is positive, negative, or zero?"
   ]
  },
  {
   "cell_type": "code",
   "execution_count": 6,
   "id": "34d589ee",
   "metadata": {},
   "outputs": [
    {
     "name": "stdout",
     "output_type": "stream",
     "text": [
      "please enter a number: 5\n",
      "5 is a positive number.\n"
     ]
    }
   ],
   "source": [
    " k = input(\"please enter a number: \")\n",
    "if int(k) > 0:\n",
    "    print(f\"{k} is a positive number.\")\n",
    "elif int(k) < 0:\n",
    "    print(f\"{k} is a negative number.\")\n",
    "else:\n",
    "    print(f\"{k} is zero\")\n"
   ]
  },
  {
   "cell_type": "markdown",
   "id": "d3e4b0c8",
   "metadata": {},
   "source": [
    "# 6. How do you convert user input to a list of integers?"
   ]
  },
  {
   "cell_type": "code",
   "execution_count": 8,
   "id": "8f11a0c8",
   "metadata": {},
   "outputs": [
    {
     "name": "stdout",
     "output_type": "stream",
     "text": [
      "Please enter a sentence: 5 3 6 9\n",
      "['5', '3', '6', '9']\n"
     ]
    }
   ],
   "source": [
    "k = print(input(\"Please enter a sentence: \").split())    #split on the basis of space by default"
   ]
  },
  {
   "cell_type": "code",
   "execution_count": 16,
   "id": "c7383529",
   "metadata": {},
   "outputs": [
    {
     "ename": "SyntaxError",
     "evalue": "invalid syntax (987223235.py, line 1)",
     "output_type": "error",
     "traceback": [
      "\u001b[1;36m  Cell \u001b[1;32mIn[16], line 1\u001b[1;36m\u001b[0m\n\u001b[1;33m    num = int(k) for k in input(\"Please enter a sentence: \").split()\u001b[0m\n\u001b[1;37m                 ^\u001b[0m\n\u001b[1;31mSyntaxError\u001b[0m\u001b[1;31m:\u001b[0m invalid syntax\n"
     ]
    }
   ],
   "source": [
    "num = int(k) for k in input(\"Please enter a sentence: \").split()\n",
    "print(num)"
   ]
  },
  {
   "cell_type": "code",
   "execution_count": 19,
   "id": "2b15e794",
   "metadata": {},
   "outputs": [
    {
     "name": "stdout",
     "output_type": "stream",
     "text": [
      "Please enter a sentence: num = int(k) for k in input(\"Please enter a sentence: \").split() print(num)\n",
      "['num', '=', 'int(k)', 'for', 'k', 'in', 'input(\"Please', 'enter', 'a', 'sentence:', '\").split()', 'print(num)']\n"
     ]
    }
   ],
   "source": [
    "num = [k for k in input(\"Please enter a sentence: \").split()]\n",
    "print(num)"
   ]
  },
  {
   "cell_type": "code",
   "execution_count": 20,
   "id": "b653e22c",
   "metadata": {},
   "outputs": [
    {
     "name": "stdout",
     "output_type": "stream",
     "text": [
      "Please enter: num = int(k) for k in input(\"Please enter a sentence: \").split() print(num)\n",
      "['num', '=', 'int(k)', 'for', 'k', 'in', 'input(\"Please', 'enter', 'a', 'sentence:', '\").split()', 'print(num)']\n"
     ]
    }
   ],
   "source": [
    "k = input(\"Please enter: \").split()\n",
    "print(k)"
   ]
  },
  {
   "cell_type": "markdown",
   "id": "a5cfd6a0",
   "metadata": {},
   "source": [
    "# 7. How do you accept a string input and print it in uppercase?"
   ]
  },
  {
   "cell_type": "code",
   "execution_count": 21,
   "id": "d9b81fa3",
   "metadata": {},
   "outputs": [
    {
     "name": "stdout",
     "output_type": "stream",
     "text": [
      "Please enter: raja\n",
      "RAJA\n"
     ]
    }
   ],
   "source": [
    "k = input(\"Please enter: \").upper()\n",
    "print(k)"
   ]
  },
  {
   "cell_type": "markdown",
   "id": "d35aa2cc",
   "metadata": {},
   "source": [
    "# 8. Write a Python program that accepts a string and prints the number of vowels in it."
   ]
  },
  {
   "cell_type": "code",
   "execution_count": 23,
   "id": "1ed06136",
   "metadata": {},
   "outputs": [
    {
     "name": "stdout",
     "output_type": "stream",
     "text": [
      "Please enter your sentence: Write a Python program that accepts a string and prints the number of vowels in it\n",
      "21\n"
     ]
    }
   ],
   "source": [
    "user_input = input(\"Please enter your sentence: \").lower()\n",
    "vowels = 'aeiou'\n",
    "j = 0\n",
    "for i in user_input:\n",
    "    if i in vowels:\n",
    "        j += 1\n",
    "print(j)"
   ]
  },
  {
   "cell_type": "code",
   "execution_count": 25,
   "id": "9efb99b1",
   "metadata": {},
   "outputs": [
    {
     "name": "stdout",
     "output_type": "stream",
     "text": [
      "Please enter your sentence: Write a Python program that accepts a string and prints the number of vowels in it\n",
      "21\n"
     ]
    }
   ],
   "source": [
    "user_input = input(\"Please enter your sentence: \").lower()\n",
    "vowels = 'aeiou'\n",
    "k = sum(1 for char in user_input if char in vowels)\n",
    "print(k)"
   ]
  },
  {
   "cell_type": "markdown",
   "id": "86c23e6e",
   "metadata": {},
   "source": [
    " numbers = [1, 2, 3, 4, 5]\n",
    "total = sum(numbers)\n",
    "print(total)  # Output: 15\n",
    "Using with a Tuple\n",
    "\n",
    "numbers_tuple = (10, 20, 30)\n",
    "total = sum(numbers_tuple)\n",
    "print(total)  # Output: 60\n",
    "Using with a Start Value\n",
    "You can also provide a start value that will be added to the sum of the iterable.\n",
    "\n",
    "\n",
    "numbers = [1, 2, 3]\n",
    "total = sum(numbers, 10)\n",
    "print(total)  # Output: 16\n",
    "Summing Elements of a List of Lists\n",
    "If you have a list of lists and you want to sum the elements of each sublist, you can use a list comprehension:\n",
    "\n",
    "\n",
    "list_of_lists = [[1, 2, 3], [4, 5], [6, 7, 8]]\n",
    "total = sum([sum(sublist) for sublist in list_of_lists])\n",
    "print(total)  # Output: 36\n",
    "Summing with a Condition\n",
    "You can also sum elements that meet a certain condition using a generator expression:\n",
    "\n",
    "numbers = [1, 2, 3, 4, 5]\n",
    "total = sum(x for x in numbers if x % 2 == 0)\n",
    "print(total)  # Output: 6 (2 + 4)\n"
   ]
  },
  {
   "cell_type": "markdown",
   "id": "71484d78",
   "metadata": {},
   "source": [
    "# 9. Write a program that takes a number as input and checks if it is even or odd."
   ]
  },
  {
   "cell_type": "code",
   "execution_count": 29,
   "id": "2c375375",
   "metadata": {},
   "outputs": [
    {
     "name": "stdout",
     "output_type": "stream",
     "text": [
      "Please enter a number: 5\n",
      "The number is odd\n"
     ]
    }
   ],
   "source": [
    "num = int(input(\"Please enter a number: \"))\n",
    "if num%2 == 0 and num != 0:\n",
    "    print(\"The number is even\")\n",
    "elif num%2 != 0:\n",
    "    print(\"The number is odd\")\n",
    "else:\n",
    "    print(\"The number is zero\")"
   ]
  },
  {
   "cell_type": "markdown",
   "id": "407adc1c",
   "metadata": {},
   "source": [
    "# 10. How would you check if a string is a palindrome using input()?"
   ]
  },
  {
   "cell_type": "code",
   "execution_count": 31,
   "id": "b44c1371",
   "metadata": {},
   "outputs": [
    {
     "name": "stdout",
     "output_type": "stream",
     "text": [
      "please enter a string: abba\n",
      "The string is a palindrome\n"
     ]
    }
   ],
   "source": [
    "text = input(\"please enter a string: \")\n",
    "if text == text[::-1]:\n",
    "    print(\"The string is a palindrome\")\n",
    "else:\n",
    "    print(\"The string is not a palindrome\")"
   ]
  },
  {
   "cell_type": "markdown",
   "id": "b13dd01e",
   "metadata": {},
   "source": [
    "# 14. How do you accept a list of comma-separated values as input?"
   ]
  },
  {
   "cell_type": "code",
   "execution_count": 34,
   "id": "e625ef59",
   "metadata": {},
   "outputs": [
    {
     "name": "stdout",
     "output_type": "stream",
     "text": [
      "Please enter a sentence: raja, is, a, good boy\n",
      "['raja', ' is', ' a', ' good boy']\n"
     ]
    }
   ],
   "source": [
    "k = input(\"Please enter a sentence: \").split(\",\")\n",
    "print(k)"
   ]
  },
  {
   "cell_type": "markdown",
   "id": "854a98f9",
   "metadata": {},
   "source": [
    "# 15. Write a Python program that takes two numbers as input and prints their product."
   ]
  },
  {
   "cell_type": "code",
   "execution_count": 36,
   "id": "a1ba311e",
   "metadata": {},
   "outputs": [
    {
     "name": "stdout",
     "output_type": "stream",
     "text": [
      "Enter first number: 5\n",
      "Enter second number: 6\n",
      "Product: 30\n"
     ]
    }
   ],
   "source": [
    "num1 = int(input(\"Enter first number: \"))\n",
    "num2 = int(input(\"Enter second number: \"))\n",
    "print(\"Product:\", num1 * num2)\n"
   ]
  },
  {
   "cell_type": "markdown",
   "id": "3c3f6357",
   "metadata": {},
   "source": [
    "# 16. Write a program that checks if the input number is a prime number."
   ]
  },
  {
   "cell_type": "code",
   "execution_count": 42,
   "id": "09535727",
   "metadata": {},
   "outputs": [
    {
     "name": "stdout",
     "output_type": "stream",
     "text": [
      "Enter first number: 1001\n",
      "is not a prime\n"
     ]
    }
   ],
   "source": [
    "num = int(input(\"Enter first number: \"))\n",
    "num1 = int(num**(0.5))\n",
    "if num > 1:\n",
    "    for i in range (2,num1+1):\n",
    "        if num%i == 0:\n",
    "            print(\"is not a prime\")\n",
    "            break\n",
    "    else:\n",
    "        print(\"is a prime number\")\n",
    "else:\n",
    "    print(\"please enter a correct numer\")"
   ]
  },
  {
   "cell_type": "markdown",
   "id": "ecca3ead",
   "metadata": {},
   "source": [
    "# 17. How can you accept a boolean value (True/False) from the user?"
   ]
  },
  {
   "cell_type": "code",
   "execution_count": 44,
   "id": "8e2c88b0",
   "metadata": {},
   "outputs": [
    {
     "name": "stdout",
     "output_type": "stream",
     "text": [
      "Enter True or False: 2\n"
     ]
    }
   ],
   "source": [
    "user_input = input(\"Enter True or False: \").lower() == \"true\""
   ]
  },
  {
   "cell_type": "markdown",
   "id": "187904b3",
   "metadata": {},
   "source": [
    "# 18. Write a program that accepts a string and prints the reverse of that string."
   ]
  },
  {
   "cell_type": "code",
   "execution_count": 45,
   "id": "b0f08ed2",
   "metadata": {},
   "outputs": [
    {
     "name": "stdout",
     "output_type": "stream",
     "text": [
      "please enter a string: raja\n",
      "ajar\n"
     ]
    }
   ],
   "source": [
    "text = input(\"please enter a string: \")\n",
    "print(text[::-1])"
   ]
  },
  {
   "cell_type": "markdown",
   "id": "f6770868",
   "metadata": {},
   "source": [
    "# 19. Write a program that asks for a user's name and age and prints a message."
   ]
  },
  {
   "cell_type": "code",
   "execution_count": 53,
   "id": "70b0f926",
   "metadata": {},
   "outputs": [
    {
     "name": "stdout",
     "output_type": "stream",
     "text": [
      "Please enter your name: Raja Debnath\n",
      "Please enter your age: 49\n",
      "name: Raja Debnath\n",
      "age: 49\n"
     ]
    }
   ],
   "source": [
    "name = input(\"Please enter your name: \")\n",
    "age = input(\"Please enter your age: \")\n",
    "k = {\n",
    "    \"name\" : name,\n",
    "    \"age\" : age,\n",
    "}\n",
    "for i in k:\n",
    "    print(f\"{i}: {k[i]}\")"
   ]
  },
  {
   "cell_type": "code",
   "execution_count": 3,
   "id": "ebb32761",
   "metadata": {},
   "outputs": [
    {
     "name": "stdout",
     "output_type": "stream",
     "text": [
      "Please enter your name: Raja Debnath\n",
      "Please enter your age: 56\n",
      "would you like to continue, \"y\" for yes and \"n\" for no: y\n",
      "Please enter your name: Avra Dutta\n",
      "Please enter your age: 69\n",
      "would you like to continue, \"y\" for yes and \"n\" for no: y\n",
      "Please enter your name: Arjun Debnath\n",
      "Please enter your age: 456\n",
      "would you like to continue, \"y\" for yes and \"n\" for no: n\n",
      "Raja Debnath : 56\n",
      "Avra Dutta : 69\n",
      "Arjun Debnath : 456\n"
     ]
    }
   ],
   "source": [
    "k={}\n",
    "name = input(\"Please enter your name: \")\n",
    "age = input(\"Please enter your age: \")\n",
    "while True:\n",
    "    \n",
    "    k[name] = age\n",
    "    user_input = input(\"would you like to continue, \\\"y\\\" for yes and \\\"n\\\" for no: \").lower()\n",
    "    if user_input == \"y\":\n",
    "        name = input(\"Please enter your name: \")\n",
    "        age = input(\"Please enter your age: \")\n",
    "    else:\n",
    "        break\n",
    "for i in k:\n",
    "    print(f\"{i} : {k[i]}\")\n"
   ]
  },
  {
   "cell_type": "code",
   "execution_count": 54,
   "id": "6b735fdd",
   "metadata": {},
   "outputs": [
    {
     "name": "stdout",
     "output_type": "stream",
     "text": [
      "Enter your name: Raja Debnath\n",
      "Enter your age: 49\n",
      "Hello, Raja Debnath. You are 49 years old.\n"
     ]
    }
   ],
   "source": [
    "name = input(\"Enter your name: \")\n",
    "age = int(input(\"Enter your age: \"))\n",
    "print(f\"Hello, {name}. You are {age} years old.\")"
   ]
  },
  {
   "cell_type": "markdown",
   "id": "b911dfc9",
   "metadata": {},
   "source": [
    "# 20. Write a program to calculate the factorial of a number using input()."
   ]
  },
  {
   "cell_type": "code",
   "execution_count": 63,
   "id": "b01e03e7",
   "metadata": {},
   "outputs": [
    {
     "name": "stdout",
     "output_type": "stream",
     "text": [
      "enter a numer for factorial: 4\n",
      "24\n"
     ]
    }
   ],
   "source": [
    "num = int(input(\"enter a numer for factorial: \"))\n",
    "fact = 1\n",
    "for i in range(1, num + 1):\n",
    "    fact *= i\n",
    "print(fact)"
   ]
  },
  {
   "cell_type": "markdown",
   "id": "1ec8810f",
   "metadata": {},
   "source": [
    "# 21. How do you prevent a user from entering an empty string?"
   ]
  },
  {
   "cell_type": "code",
   "execution_count": 66,
   "id": "c8cf98aa",
   "metadata": {},
   "outputs": [
    {
     "name": "stdout",
     "output_type": "stream",
     "text": [
      "Enter something: 26\n",
      "You entered: 26\n"
     ]
    }
   ],
   "source": [
    "user_input = input(\"Enter something: \").strip()\n",
    "if not user_input:\n",
    "    print(\"Input cannot be empty.\")\n",
    "else:\n",
    "    print(f\"You entered: {user_input}\")\n"
   ]
  },
  {
   "cell_type": "markdown",
   "id": "12430034",
   "metadata": {},
   "source": [
    "# 22. Write a program to check if the entered number is a perfect square."
   ]
  },
  {
   "cell_type": "code",
   "execution_count": 73,
   "id": "a86050bf",
   "metadata": {},
   "outputs": [
    {
     "name": "stdout",
     "output_type": "stream",
     "text": [
      "Enter a number: 2531\n",
      "2531 is not a perfect square\n"
     ]
    }
   ],
   "source": [
    "user_input = int(input(\"Enter a number: \"))\n",
    "k = user_input**(0.5)\n",
    "if (int(k))**2 == user_input:\n",
    "    print(f\"{user_input} is a perfect square & the sqrt is {k}\")\n",
    "else:\n",
    "    print(f\"{user_input} is not a perfect square\")"
   ]
  },
  {
   "cell_type": "markdown",
   "id": "830afa16",
   "metadata": {},
   "source": [
    "# 23. Write a program that asks for a year and determines if it's a leap year."
   ]
  },
  {
   "cell_type": "code",
   "execution_count": 75,
   "id": "91a104c2",
   "metadata": {},
   "outputs": [
    {
     "name": "stdout",
     "output_type": "stream",
     "text": [
      "Enter a year: 1989\n",
      "1989 is not a leap year\n"
     ]
    }
   ],
   "source": [
    "user_input = int(input(\"Enter a year: \"))\n",
    "if (user_input%4 == 0 and user_input % 100 != 0) or user_input % 400 == 0:   # how to give more than two condition.\n",
    "    print(f\"{user_input} is a leap year\")\n",
    "else:\n",
    "    print(f\"{user_input} is not a leap year\")"
   ]
  },
  {
   "cell_type": "markdown",
   "id": "d2120fb2",
   "metadata": {},
   "source": [
    "# 24. How can you remove leading and trailing spaces from a string input?"
   ]
  },
  {
   "cell_type": "code",
   "execution_count": 76,
   "id": "5286aef2",
   "metadata": {},
   "outputs": [
    {
     "name": "stdout",
     "output_type": "stream",
     "text": [
      "Enter something:  rja debnath \n",
      "You entered: rja debnath\n"
     ]
    }
   ],
   "source": [
    "user_input = input(\"Enter something: \").strip()\n",
    "print(f\"You entered: {user_input}\")"
   ]
  },
  {
   "cell_type": "markdown",
   "id": "481d3b14",
   "metadata": {},
   "source": [
    "# 25. How do you handle incorrect inputs when you expect an integer using input()?"
   ]
  },
  {
   "cell_type": "code",
   "execution_count": 86,
   "id": "ae5e131c",
   "metadata": {},
   "outputs": [
    {
     "name": "stdout",
     "output_type": "stream",
     "text": [
      "Enter something: f\n",
      "not a integr\n"
     ]
    }
   ],
   "source": [
    "user_input = input(\"Enter something: \")\n",
    "k = '0123456789'\n",
    "for i in user_input:\n",
    "    if i not in k:\n",
    "        print(\"not a integr\")\n",
    "        break\n",
    "else:   \n",
    "    print(\"integer\")"
   ]
  },
  {
   "cell_type": "code",
   "execution_count": 92,
   "id": "ed5086d7",
   "metadata": {},
   "outputs": [
    {
     "name": "stdout",
     "output_type": "stream",
     "text": [
      "Enter a number: l\n",
      "Invalid input! Please enter a valid integer.\n",
      "Enter a number: l\n",
      "Invalid input! Please enter a valid integer.\n",
      "Enter a number: 2\n"
     ]
    }
   ],
   "source": [
    "while True:\n",
    "    try:\n",
    "        num = int(input(\"Enter a number: \"))\n",
    "        break\n",
    "    except ValueError:\n",
    "        print(\"Invalid input! Please enter a valid integer.\")\n"
   ]
  },
  {
   "cell_type": "markdown",
   "id": "b7b5043a",
   "metadata": {},
   "source": [
    "# 26. Write a program that accepts a string and counts the occurrence of a particular character."
   ]
  },
  {
   "cell_type": "code",
   "execution_count": 3,
   "id": "11a7c7ad",
   "metadata": {},
   "outputs": [
    {
     "name": "stdout",
     "output_type": "stream",
     "text": [
      "Enter a string: raja debnath\n",
      "Enter a character to count: a\n",
      "Occurrence of a: 3\n"
     ]
    }
   ],
   "source": [
    "text1 = input(\"Enter a string: \")\n",
    "char = input(\"Enter a character to count: \")\n",
    "print(f\"Occurrence of {char}: {text1.count(char)}\")\n"
   ]
  },
  {
   "cell_type": "code",
   "execution_count": 93,
   "id": "ee313b42",
   "metadata": {},
   "outputs": [
    {
     "name": "stdout",
     "output_type": "stream",
     "text": [
      "Enter something: raja\n",
      "the occurance of r is 1\n",
      "the occurance of a is 2\n",
      "the occurance of j is 1\n",
      "the occurance of a is 2\n"
     ]
    }
   ],
   "source": [
    "user_input = input(\"Enter something: \")\n",
    "for char in user_input:\n",
    "    print(f\"the occurance of {char} is {user_input.count(char)}\")"
   ]
  },
  {
   "cell_type": "code",
   "execution_count": 2,
   "id": "ff7f0983",
   "metadata": {},
   "outputs": [
    {
     "name": "stdout",
     "output_type": "stream",
     "text": [
      "Enter something: raja debnath\n",
      "the occurance of r is 1\n",
      "the occurance of a is 3\n",
      "the occurance of j is 1\n",
      "the occurance of   is 1\n",
      "the occurance of d is 1\n",
      "the occurance of e is 1\n",
      "the occurance of b is 1\n",
      "the occurance of n is 1\n",
      "the occurance of t is 1\n",
      "the occurance of h is 1\n"
     ]
    }
   ],
   "source": [
    "#how to count occurance of each charecter in a sentence\n",
    "user_input = input(\"Enter something: \")\n",
    "i=0\n",
    "for char in user_input:\n",
    "    i += 1\n",
    "    if char not in user_input[0:i-1]:\n",
    "        print(f\"the occurance of {char} is {user_input.count(char)}\")"
   ]
  },
  {
   "cell_type": "code",
   "execution_count": 103,
   "id": "778e447b",
   "metadata": {},
   "outputs": [
    {
     "name": "stdout",
     "output_type": "stream",
     "text": [
      "Enter something: raja debnath\n",
      "{' ', 'r', 'j', 'a', 'b', 't', 'h', 'd', 'n', 'e'}\n",
      "the occurance of   is 1\n",
      "the occurance of r is 1\n",
      "the occurance of j is 1\n",
      "the occurance of a is 3\n",
      "the occurance of b is 1\n",
      "the occurance of t is 1\n",
      "the occurance of h is 1\n",
      "the occurance of d is 1\n",
      "the occurance of n is 1\n",
      "the occurance of e is 1\n"
     ]
    }
   ],
   "source": [
    "#how to count occurance of each charecter in a sentence\n",
    "user_input = input(\"Enter something: \")\n",
    "k = set(user_input)\n",
    "print(k)\n",
    "for char in k:\n",
    "    print(f\"the occurance of {char} is {user_input.count(char)}\")"
   ]
  },
  {
   "cell_type": "markdown",
   "id": "45a52759",
   "metadata": {},
   "source": [
    "# 28. Write a program that accepts a number and prints whether it is a multiple of 10."
   ]
  },
  {
   "cell_type": "code",
   "execution_count": 5,
   "id": "fea4731f",
   "metadata": {},
   "outputs": [
    {
     "name": "stdout",
     "output_type": "stream",
     "text": [
      "Enter something: 56\n",
      "Not divisible by 10\n"
     ]
    }
   ],
   "source": [
    "user_input = int(input(\"Enter something: \"))\n",
    "if user_input % 10 == 0:\n",
    "    print(\"Divisible by 10\")\n",
    "else:\n",
    "    print(\"Not divisible by 10\")"
   ]
  },
  {
   "cell_type": "markdown",
   "id": "253ca8da",
   "metadata": {},
   "source": [
    "# 29. How would you check if a string entered by the user contains only alphabets using input()?"
   ]
  },
  {
   "cell_type": "code",
   "execution_count": 10,
   "id": "7f10673f",
   "metadata": {},
   "outputs": [
    {
     "name": "stdout",
     "output_type": "stream",
     "text": [
      "Enter something: 63fghd\n",
      "Is not a word\n"
     ]
    }
   ],
   "source": [
    "user_input1 = input(\"Enter something: \").lower()\n",
    "k = 'qwertyuioplkjhgfdsazxcvbnm'\n",
    "for i in user_input1:\n",
    "    if i not in k:\n",
    "        print(\"Is not a word\")\n",
    "        break\n",
    "else:\n",
    "    print(\"Is a word\")\n"
   ]
  },
  {
   "cell_type": "code",
   "execution_count": 12,
   "id": "b587d459",
   "metadata": {},
   "outputs": [
    {
     "name": "stdout",
     "output_type": "stream",
     "text": [
      "Enter a string: fg3\n",
      "Contains non-alphabet characters\n"
     ]
    }
   ],
   "source": [
    "user_input = input(\"Enter a string: \")\n",
    "if user_input.isalpha():\n",
    "    print(\"Only alphabets\")\n",
    "else:\n",
    "    print(\"Contains non-alphabet characters\")"
   ]
  },
  {
   "cell_type": "code",
   "execution_count": 16,
   "id": "c4b04a23",
   "metadata": {},
   "outputs": [
    {
     "name": "stdout",
     "output_type": "stream",
     "text": [
      "Enter a number: 786\n",
      "Only number\n"
     ]
    }
   ],
   "source": [
    "user_input = input(\"Enter a number: \")\n",
    "if user_input.isnumeric():\n",
    "    print(\"Only number\")\n",
    "else:\n",
    "    print(\"Contains non-numeric characters\")"
   ]
  },
  {
   "cell_type": "markdown",
   "id": "343148cb",
   "metadata": {},
   "source": [
    "# 30. Write a program to count the number of words in a sentence entered by the user."
   ]
  },
  {
   "cell_type": "code",
   "execution_count": 18,
   "id": "3b6acd13",
   "metadata": {},
   "outputs": [
    {
     "name": "stdout",
     "output_type": "stream",
     "text": [
      "plase enter a sentence: raja debnath\n",
      "2\n"
     ]
    }
   ],
   "source": [
    "word_count = input(\"plase enter a sentence: \").split()\n",
    "k = len(word_count)\n",
    "print(k)"
   ]
  },
  {
   "cell_type": "markdown",
   "id": "45d60682",
   "metadata": {},
   "source": [
    "# 31. How would you accept a date input from the user in Python?"
   ]
  },
  {
   "cell_type": "code",
   "execution_count": 19,
   "id": "cebac651",
   "metadata": {},
   "outputs": [
    {
     "name": "stdout",
     "output_type": "stream",
     "text": [
      "Enter a date (YYYY-MM-DD): 2024-5-6\n",
      "Entered date: 2024-05-06 00:00:00\n"
     ]
    }
   ],
   "source": [
    "from datetime import datetime\n",
    "date_str = input(\"Enter a date (YYYY-MM-DD): \")\n",
    "date = datetime.strptime(date_str, \"%Y-%m-%d\")\n",
    "print(\"Entered date:\", date)"
   ]
  },
  {
   "cell_type": "markdown",
   "id": "704d3521",
   "metadata": {},
   "source": [
    "# 37. **Question:** How would you accept and store multiple names from the user?"
   ]
  },
  {
   "cell_type": "code",
   "execution_count": 22,
   "id": "62d60d77",
   "metadata": {},
   "outputs": [
    {
     "name": "stdout",
     "output_type": "stream",
     "text": [
      "plase enter a sentence: rraja, rana, akash, rima, siba\n",
      "Names: ['rraja', ' rana', ' akash', ' rima', ' siba']\n"
     ]
    }
   ],
   "source": [
    "word_count = input(\"plase enter a sentence: \").split(\",\")\n",
    "print(\"Names:\", word_count)\n"
   ]
  },
  {
   "cell_type": "markdown",
   "id": "8b549267",
   "metadata": {},
   "source": [
    "# 38. How would you extract numbers from a string entered by the user?"
   ]
  },
  {
   "cell_type": "code",
   "execution_count": 39,
   "id": "164d0a29",
   "metadata": {},
   "outputs": [
    {
     "name": "stdout",
     "output_type": "stream",
     "text": [
      "Enter a string: jkl3 hi hello 143 j56\n",
      "Extracted numbers: ['3', '143', '56']\n"
     ]
    }
   ],
   "source": [
    "import re\n",
    "text = input(\"Enter a string: \")\n",
    "numbers = re.findall(r'\\d+', text)\n",
    "print(\"Extracted numbers:\", numbers)"
   ]
  },
  {
   "cell_type": "markdown",
   "id": "a596e7f4",
   "metadata": {},
   "source": [
    "re.findall\n",
    "The re.findall function in Python is part of the re module, which handles regular expressions. This function searches the string for all occurrences that match the given pattern and returns them as a list.\n",
    "\n",
    "r'\\d+'\n",
    "r'': The r before the string indicates a raw string, which tells Python not to interpret backslashes as escape characters.\n",
    "\\d: This is a regular expression pattern that matches any digit (0-9).\n",
    "+: This quantifier means \"one or more\" of the preceding element. So, \\d+ matches one or more digits in a row.\n",
    "Example\n",
    "Here's a simple example to illustrate how re.findall(r'\\d+', text) works:\n",
    "\n",
    "\n",
    "import re\n",
    "\n",
    "text = \"There are 123 apples and 45 oranges.\"\n",
    "\n",
    "# Find all sequences of digits in the text\n",
    "numbers = re.findall(r'\\d+', text)\n",
    "\n",
    "print(numbers)  # Output: ['123', '45']\n",
    "In this example, re.findall(r'\\d+', text) finds all sequences of digits in the text and returns them as a list of strings.\n",
    "\n",
    "I hope this helps! If you have any more questions or need further clarification, feel free to ask."
   ]
  },
  {
   "cell_type": "markdown",
   "id": "336e2493",
   "metadata": {},
   "source": [
    "# 39. How do you find the maximum number from a list of integers entered by the user?"
   ]
  },
  {
   "cell_type": "code",
   "execution_count": 25,
   "id": "5cb7037b",
   "metadata": {},
   "outputs": [
    {
     "name": "stdout",
     "output_type": "stream",
     "text": [
      "Please enter numbrs with spaces: 20 30 44 52 65 95 85 45 75 65 35 84 89\n",
      "95\n"
     ]
    }
   ],
   "source": [
    "no_list = input(\"Please enter numbrs with spaces: \").split()\n",
    "max_no = 0\n",
    "for i in no_list:\n",
    "    if int(i) > max_no:\n",
    "        max_no = int(i)\n",
    "print(max_no)"
   ]
  },
  {
   "cell_type": "markdown",
   "id": "e0d00cbc",
   "metadata": {},
   "source": [
    "# 40. How would you prompt the user for input until they enter a valid number?"
   ]
  },
  {
   "cell_type": "code",
   "execution_count": 28,
   "id": "1b3478dd",
   "metadata": {},
   "outputs": [
    {
     "name": "stdout",
     "output_type": "stream",
     "text": [
      "please enter a number: 5d\n",
      "Please enter correct input\n",
      "please enter a number: 5f3\n",
      "Please enter correct input\n",
      "please enter a number: 56\n"
     ]
    }
   ],
   "source": [
    "while True:\n",
    "    valid_number = input(\"please enter a number: \")\n",
    "    if valid_number.isnumeric():\n",
    "        break\n",
    "    else:\n",
    "        print(\"Please enter correct input\")\n",
    "            "
   ]
  },
  {
   "cell_type": "code",
   "execution_count": 30,
   "id": "bf379b1c",
   "metadata": {},
   "outputs": [
    {
     "name": "stdout",
     "output_type": "stream",
     "text": [
      "Enter a valid number: 4l\n",
      "Invalid input, please enter a number.\n",
      "Enter a valid number: 54\n"
     ]
    }
   ],
   "source": [
    "while True:\n",
    "    try:\n",
    "        num = int(input(\"Enter a valid number: \"))\n",
    "        break\n",
    "    except ValueError:\n",
    "         print(\"Invalid input, please enter a number.\")"
   ]
  },
  {
   "cell_type": "markdown",
   "id": "aca076d0",
   "metadata": {},
   "source": [
    "# 41. Write a program to check if the entered string has digits."
   ]
  },
  {
   "cell_type": "code",
   "execution_count": 35,
   "id": "eb85066f",
   "metadata": {},
   "outputs": [
    {
     "name": "stdout",
     "output_type": "stream",
     "text": [
      "please enter a number: !!!\n",
      "string has no digit\n"
     ]
    }
   ],
   "source": [
    "number = '0123456789'\n",
    "valid_number = input(\"please enter a number: \")\n",
    "for i in valid_number:\n",
    "    if i in number:\n",
    "        print(\"string has at least one digit\")\n",
    "        break\n",
    "    else:\n",
    "        print(\"string has no digit\")\n",
    "        break"
   ]
  },
  {
   "cell_type": "code",
   "execution_count": 41,
   "id": "9def069b",
   "metadata": {},
   "outputs": [
    {
     "name": "stdout",
     "output_type": "stream",
     "text": [
      "please enter a number: fgh\n",
      "string has no digit\n"
     ]
    }
   ],
   "source": [
    "valid_number = input(\"please enter a number: \")\n",
    "for i in valid_number:\n",
    "    if i.isdigit():\n",
    "        print(\"string has at least one digit\")\n",
    "        break\n",
    "    else:\n",
    "        print(\"string has no digit\")\n",
    "        break"
   ]
  },
  {
   "cell_type": "code",
   "execution_count": 38,
   "id": "bc458511",
   "metadata": {},
   "outputs": [
    {
     "name": "stdout",
     "output_type": "stream",
     "text": [
      "Enter a string: jkl\n",
      "No digits\n"
     ]
    }
   ],
   "source": [
    "user_input = input(\"Enter a string: \")\n",
    "if any(char.isdigit() for char in user_input):\n",
    "    print(\"Contains digits\")\n",
    "else:\n",
    "    print(\"No digits\")"
   ]
  },
  {
   "cell_type": "code",
   "execution_count": 79,
   "id": "f813211b",
   "metadata": {},
   "outputs": [
    {
     "name": "stdout",
     "output_type": "stream",
     "text": [
      "12345 is only digit? True\n",
      "123a5 is only digit? False\n"
     ]
    }
   ],
   "source": [
    "import string\n",
    "\n",
    "def is_digit_only(s):\n",
    "    return all(char in string.digits for char in s)\n",
    "\n",
    "print(\"12345 is only digit?\", is_digit_only(\"12345\"))\n",
    "print(\"123a5 is only digit?\", is_digit_only(\"123a5\"))\n"
   ]
  },
  {
   "cell_type": "markdown",
   "id": "7534f778",
   "metadata": {},
   "source": [
    "# 42. Write a program to check if the entered string has only whitespace characters."
   ]
  },
  {
   "cell_type": "code",
   "execution_count": 44,
   "id": "68c00281",
   "metadata": {},
   "outputs": [
    {
     "name": "stdout",
     "output_type": "stream",
     "text": [
      "Enter a string:                  \n",
      "Only whitespace\n"
     ]
    }
   ],
   "source": [
    "#if only space are entered. one or many spaces but only spaces.\n",
    "\n",
    "user_input = input(\"Enter a string: \")\n",
    "if user_input.isspace():\n",
    "    print(\"Only whitespace\")\n",
    "else:\n",
    "    print(\"Contains non-whitespace characters\")\n"
   ]
  },
  {
   "cell_type": "code",
   "execution_count": 91,
   "id": "39e8f1dd",
   "metadata": {},
   "outputs": [
    {
     "name": "stdout",
     "output_type": "stream",
     "text": [
      "True\n"
     ]
    }
   ],
   "source": [
    "import string\n",
    "def is_only_whitespace(s):\n",
    "    return all(char in string.whitespace for char in s)\n",
    "\n",
    "print(is_only_whitespace(\"   \\t\\n\"))\n"
   ]
  },
  {
   "cell_type": "markdown",
   "id": "78c8829f",
   "metadata": {},
   "source": [
    "# 43. Write a program to find the sum of all digits in a string entered by the user."
   ]
  },
  {
   "cell_type": "code",
   "execution_count": 49,
   "id": "bb699119",
   "metadata": {},
   "outputs": [
    {
     "name": "stdout",
     "output_type": "stream",
     "text": [
      "Enter a number: 12546\n",
      "18\n"
     ]
    }
   ],
   "source": [
    "user_input1 = input(\"Enter a number: \")\n",
    "nnumber_list = list(user_input1)\n",
    "sum_list= sum(int(i) for i in nnumber_list)\n",
    "print(sum_list)"
   ]
  },
  {
   "cell_type": "code",
   "execution_count": 50,
   "id": "e77fdb96",
   "metadata": {},
   "outputs": [
    {
     "name": "stdout",
     "output_type": "stream",
     "text": [
      "Enter a string: kl456\n",
      "Sum of digits: 15\n"
     ]
    }
   ],
   "source": [
    "text = input(\"Enter a string: \")\n",
    "digit_sum = sum(int(digit) for digit in text if digit.isdigit())\n",
    "print(\"Sum of digits:\", digit_sum)"
   ]
  },
  {
   "cell_type": "markdown",
   "id": "ed3f0351",
   "metadata": {},
   "source": [
    "# 44. Write a program that accepts a number and prints its absolute value."
   ]
  },
  {
   "cell_type": "code",
   "execution_count": 55,
   "id": "dbfc1dd8",
   "metadata": {},
   "outputs": [
    {
     "name": "stdout",
     "output_type": "stream",
     "text": [
      "Enter a number: -10\n",
      "Absolute value: 10\n"
     ]
    }
   ],
   "source": [
    "num = int(input(\"Enter a number: \"))\n",
    "print(\"Absolute value:\", abs(num))\n"
   ]
  },
  {
   "cell_type": "markdown",
   "id": "ad205862",
   "metadata": {},
   "source": [
    "# 45. How would you check if a string entered by the user contains any uppercase letters?"
   ]
  },
  {
   "cell_type": "code",
   "execution_count": 57,
   "id": "fc8c6239",
   "metadata": {},
   "outputs": [
    {
     "name": "stdout",
     "output_type": "stream",
     "text": [
      "Enter a string: ASD\n",
      "upper case present\n"
     ]
    }
   ],
   "source": [
    "#check if all charecters are upper case\n",
    "text = input(\"Enter a string: \")\n",
    "if text.isupper():\n",
    "    print(\"upper case present\")\n",
    "else:\n",
    "    print(\"no upper case\")"
   ]
  },
  {
   "cell_type": "code",
   "execution_count": 58,
   "id": "ef1c0dae",
   "metadata": {},
   "outputs": [
    {
     "name": "stdout",
     "output_type": "stream",
     "text": [
      "Enter a string: Asdf\n",
      "upper case present\n"
     ]
    }
   ],
   "source": [
    "#check if any letter is in upper case\n",
    "text = input(\"Enter a string: \")\n",
    "if any(char.isupper() for char in text):\n",
    "    print(\"upper case present\")\n",
    "else:\n",
    "    print(\"no upper case\")"
   ]
  },
  {
   "cell_type": "markdown",
   "id": "6f492c9c",
   "metadata": {},
   "source": [
    "# 46. Write a program that converts Celsius to Fahrenheit."
   ]
  },
  {
   "cell_type": "code",
   "execution_count": 64,
   "id": "5ee0b4a8",
   "metadata": {},
   "outputs": [
    {
     "name": "stdout",
     "output_type": "stream",
     "text": [
      "please enter celcius degree: 36\n",
      "The fahrenheit is 96.8 of the 36 celcius\n"
     ]
    }
   ],
   "source": [
    "celcius = int(input(\"please enter celcius degree: \"))\n",
    "f = ((9*celcius)/5)+32\n",
    "print(f\"The fahrenheit is {f} of the {celcius} celcius\")"
   ]
  },
  {
   "cell_type": "markdown",
   "id": "08ea04b4",
   "metadata": {},
   "source": [
    "# 47. Write a program to find the average of a list of numbers entered by the user."
   ]
  },
  {
   "cell_type": "code",
   "execution_count": 65,
   "id": "a04a16ca",
   "metadata": {},
   "outputs": [
    {
     "name": "stdout",
     "output_type": "stream",
     "text": [
      "Please enter number with coma: 9,6,3\n",
      "6.0\n"
     ]
    }
   ],
   "source": [
    "user_number = input(\"Please enter number with coma: \").split(\",\")\n",
    "avg= (sum(int(no) for no in user_number))/(len(user_number))\n",
    "print(avg)"
   ]
  },
  {
   "cell_type": "code",
   "execution_count": 73,
   "id": "33efb87d",
   "metadata": {},
   "outputs": [
    {
     "name": "stdout",
     "output_type": "stream",
     "text": [
      "Enter numbers separated by space: 1 2 3 \n",
      "Average: 2.0\n"
     ]
    }
   ],
   "source": [
    "numbers = list(map(int, input(\"Enter numbers separated by space: \").split()))\n",
    "print(\"Average:\", sum(numbers) / len(numbers))\n"
   ]
  },
  {
   "cell_type": "code",
   "execution_count": 72,
   "id": "6dc6d92d",
   "metadata": {},
   "outputs": [
    {
     "name": "stdout",
     "output_type": "stream",
     "text": [
      "[1, 2, 3, 4, 5]\n"
     ]
    }
   ],
   "source": [
    "k = [\"1\", \"2\", \"3\", \"4\", \"5\"]\n",
    "k_1 = map(int, k)\n",
    "print(list(k_1))"
   ]
  },
  {
   "cell_type": "markdown",
   "id": "a01f514d",
   "metadata": {},
   "source": [
    "In Python, the map() function is a built-in function that allows you to apply a given function to all items in an iterable (like a list or tuple) and return a map object (which is an iterator). This is particularly useful for transforming data in a concise and readable way.\n",
    "\n",
    "Here's a simple example to illustrate how map() works:\n",
    "\n",
    "Example 1: Squaring Numbers\n",
    "\n",
    "# Define a function that squares a number\n",
    "def square(num):\n",
    "    return num ** 2\n",
    "\n",
    "# List of numbers\n",
    "numbers = [1, 2, 3, 4, 5]\n",
    "\n",
    "# Use map to apply the square function to each item in the list\n",
    "squared_numbers = map(square, numbers)\n",
    "\n",
    "# Convert the map object to a list and print it\n",
    "print(list(squared_numbers))\n",
    "Output:\n",
    "\n",
    "\n",
    "[1, 4, 9, 16, 25]\n",
    "Example 2: Using Lambda Functions\n",
    "You can also use lambda functions with map() for more concise code:\n",
    "\n",
    "\n",
    "# List of numbers\n",
    "numbers = [1, 2, 3, 4, 5]\n",
    "\n",
    "# Use map with a lambda function to square each number\n",
    "squared_numbers = map(lambda x: x ** 2, numbers)\n",
    "\n",
    "# Convert the map object to a list and print it\n",
    "print(list(squared_numbers))\n",
    "Output:\n",
    "\n",
    "\n",
    "[1, 4, 9, 16, 25]\n",
    "Example 3: Converting Strings to Uppercase\n",
    "\n",
    "# List of strings\n",
    "words = ['hello', 'world', 'python']\n",
    "\n",
    "# Use map to convert each string to uppercase\n",
    "uppercase_words = map(str.upper, words)\n",
    "\n",
    "# Convert the map object to a list and print it\n",
    "print(list(uppercase_words))\n",
    "Output:\n",
    "\n",
    "\n",
    "['HELLO', 'WORLD', 'PYTHON']\n",
    "The map() function is a powerful tool for applying transformations to data in a clean and efficient manner."
   ]
  },
  {
   "cell_type": "markdown",
   "id": "f0098ee3",
   "metadata": {},
   "source": [
    "# 48 . Write a program to count the number of consonants in a string entered by the user."
   ]
  },
  {
   "cell_type": "code",
   "execution_count": 78,
   "id": "6c6e2357",
   "metadata": {},
   "outputs": [
    {
     "name": "stdout",
     "output_type": "stream",
     "text": [
      "Please enter string: raja debnath\n",
      "7\n"
     ]
    }
   ],
   "source": [
    "vowels=\"aeiou \"\n",
    "user_input2 = input(\"Please enter string: \")\n",
    "consonants = sum(1 for char in user_input2 if char not in vowels)\n",
    "print(consonants)"
   ]
  },
  {
   "cell_type": "markdown",
   "id": "31ca8606",
   "metadata": {},
   "source": [
    "# 49. How do you check if a string entered by the user contains any punctuation?"
   ]
  },
  {
   "cell_type": "code",
   "execution_count": 97,
   "id": "5f6693cd",
   "metadata": {},
   "outputs": [
    {
     "name": "stdout",
     "output_type": "stream",
     "text": [
      "Please enter your string: 123!\n",
      "Your string has punctuation\n"
     ]
    }
   ],
   "source": [
    "#with def\n",
    "import string\n",
    "def check_if_punctuation(s):\n",
    "    return any(char in string.punctuation for char in s)\n",
    "\n",
    "user_input3 = input(\"Please enter your string: \")\n",
    "if check_if_punctuation(user_input3):\n",
    "    print(\"Your string has punctuation\")\n",
    "else:\n",
    "    print(\"No punctuation\")"
   ]
  },
  {
   "cell_type": "code",
   "execution_count": 99,
   "id": "f7e1e64f",
   "metadata": {},
   "outputs": [
    {
     "name": "stdout",
     "output_type": "stream",
     "text": [
      "Please enter your string: 123\n",
      "No punctuation\n"
     ]
    }
   ],
   "source": [
    "#without def\n",
    "user_input3 = input(\"Please enter your string: \")\n",
    "if any(char in string.punctuation for char in user_input3):\n",
    "    print(\"Your string has punctuation\")\n",
    "else:\n",
    "    print(\"No punctuation\")"
   ]
  },
  {
   "cell_type": "code",
   "execution_count": 80,
   "id": "96f4a960",
   "metadata": {},
   "outputs": [
    {
     "name": "stdout",
     "output_type": "stream",
     "text": [
      "0123456789\n"
     ]
    }
   ],
   "source": [
    "import string\n",
    "print(string.digits)"
   ]
  },
  {
   "cell_type": "code",
   "execution_count": 81,
   "id": "3f58269f",
   "metadata": {},
   "outputs": [
    {
     "name": "stdout",
     "output_type": "stream",
     "text": [
      "abcdefghijklmnopqrstuvwxyzABCDEFGHIJKLMNOPQRSTUVWXYZ\n"
     ]
    }
   ],
   "source": [
    "import string\n",
    "print(string.ascii_letters)"
   ]
  },
  {
   "cell_type": "code",
   "execution_count": 82,
   "id": "ccaba43a",
   "metadata": {},
   "outputs": [
    {
     "name": "stdout",
     "output_type": "stream",
     "text": [
      "abcdefghijklmnopqrstuvwxyz\n"
     ]
    }
   ],
   "source": [
    "import string\n",
    "print(string.ascii_lowercase)"
   ]
  },
  {
   "cell_type": "code",
   "execution_count": 83,
   "id": "0e480b34",
   "metadata": {},
   "outputs": [
    {
     "name": "stdout",
     "output_type": "stream",
     "text": [
      "ABCDEFGHIJKLMNOPQRSTUVWXYZ\n"
     ]
    }
   ],
   "source": [
    "import string\n",
    "print(string.ascii_uppercase)"
   ]
  },
  {
   "cell_type": "code",
   "execution_count": 88,
   "id": "ed9350e8",
   "metadata": {},
   "outputs": [
    {
     "name": "stdout",
     "output_type": "stream",
     "text": [
      "!\"#$%&'()*+,-./:;<=>?@[\\]^_`{|}~\n"
     ]
    }
   ],
   "source": [
    "import string\n",
    "print(string.punctuation)"
   ]
  },
  {
   "cell_type": "code",
   "execution_count": 89,
   "id": "efd7321a",
   "metadata": {},
   "outputs": [
    {
     "name": "stdout",
     "output_type": "stream",
     "text": [
      "0123456789abcdefABCDEF\n"
     ]
    }
   ],
   "source": [
    "import string\n",
    "print(string.hexdigits)"
   ]
  },
  {
   "cell_type": "code",
   "execution_count": 90,
   "id": "81569eee",
   "metadata": {},
   "outputs": [
    {
     "name": "stdout",
     "output_type": "stream",
     "text": [
      "01234567\n"
     ]
    }
   ],
   "source": [
    "import string\n",
    "print(string.octdigits)"
   ]
  },
  {
   "cell_type": "code",
   "execution_count": 85,
   "id": "15ed0cee",
   "metadata": {},
   "outputs": [
    {
     "name": "stdout",
     "output_type": "stream",
     "text": [
      "Raja Debnath Is A Good Boy\n"
     ]
    }
   ],
   "source": [
    "import string\n",
    "print(string.capwords(\"raja debnath is a good boy\"))  "
   ]
  },
  {
   "cell_type": "code",
   "execution_count": 92,
   "id": "c72b7545",
   "metadata": {},
   "outputs": [
    {
     "name": "stdout",
     "output_type": "stream",
     "text": [
      " \t\n",
      "\r",
      "\u000b",
      "\f",
      "\n"
     ]
    }
   ],
   "source": [
    "import string\n",
    "print(string.whitespace)    #Formatter() takes no arguments"
   ]
  },
  {
   "cell_type": "code",
   "execution_count": 94,
   "id": "f0646b97",
   "metadata": {},
   "outputs": [
    {
     "name": "stdout",
     "output_type": "stream",
     "text": [
      "<class 'string.Formatter'>\n",
      "Hello, world!\n"
     ]
    }
   ],
   "source": [
    "import string\n",
    "print(string.Formatter)    #Formatter() takes no arguments & it is place holder. use f\" {}   \"\n",
    "\n",
    "from string import Formatter\n",
    "\n",
    "formatter = Formatter()\n",
    "formatted_string = formatter.format(\"Hello, {}!\", \"world\")\n",
    "print(formatted_string)\n"
   ]
  },
  {
   "cell_type": "markdown",
   "id": "3890cefe",
   "metadata": {},
   "source": [
    "# 50. Write a program that accepts a sentence and prints the longest word."
   ]
  },
  {
   "cell_type": "code",
   "execution_count": 103,
   "id": "1c4f0e50",
   "metadata": {},
   "outputs": [
    {
     "name": "stdout",
     "output_type": "stream",
     "text": [
      "Please enter your string: raja debnath is the best\n",
      "debnath\n"
     ]
    }
   ],
   "source": [
    "user_input4 = input(\"Please enter your string: \").split()\n",
    "longest = 0\n",
    "for word in user_input4:\n",
    "    if len(word) > longest:\n",
    "        k=\"\"\n",
    "        longest = len(word)\n",
    "        k += word\n",
    "        \n",
    "print(k)"
   ]
  },
  {
   "cell_type": "code",
   "execution_count": 104,
   "id": "9b8965b2",
   "metadata": {},
   "outputs": [
    {
     "name": "stdout",
     "output_type": "stream",
     "text": [
      "Enter a sentence: raja debnath is the best\n",
      "Longest word: debnath\n"
     ]
    }
   ],
   "source": [
    "text = input(\"Enter a sentence: \")\n",
    "words = text.split()\n",
    "longest_word = max(words, key=len)\n",
    "print(\"Longest word:\", longest_word)\n"
   ]
  },
  {
   "cell_type": "code",
   "execution_count": 105,
   "id": "2893bb87",
   "metadata": {},
   "outputs": [
    {
     "name": "stdout",
     "output_type": "stream",
     "text": [
      "['False', 'None', 'True', 'and', 'as', 'assert', 'async', 'await', 'break', 'class', 'continue', 'def', 'del', 'elif', 'else', 'except', 'finally', 'for', 'from', 'global', 'if', 'import', 'in', 'is', 'lambda', 'nonlocal', 'not', 'or', 'pass', 'raise', 'return', 'try', 'while', 'with', 'yield']\n"
     ]
    }
   ],
   "source": [
    "import keyword\n",
    "print(keyword.kwlist)"
   ]
  },
  {
   "cell_type": "markdown",
   "id": "e8034b27",
   "metadata": {},
   "source": [
    "The max() function in Python returns the largest item in an iterable or the largest of two or more arguments. It can be used with numbers, strings, and other objects.\n",
    "\n",
    "Example\n",
    "\n",
    "# Finding the maximum value in a list\n",
    "numbers = [3, 2, 8, 5, 10, 6]\n",
    "largest_number = max(numbers)\n",
    "print(\"The largest number is:\", largest_number)\n",
    "# Output: The largest number is: 10\n",
    "Usage with Multiple Arguments\n",
    "\n",
    "The max() function can also take multiple arguments and return the largest one.\n",
    "\n",
    "# Finding the maximum value among multiple arguments\n",
    "result = max(4, -5, 23, 5)\n",
    "print(\"The maximum number is:\", result)\n",
    "# Output: The maximum number is: 23\n",
    "Usage with Strings\n",
    "\n",
    "When used with strings, max() returns the lexicographically largest string.\n",
    "\n",
    "# Finding the lexicographically largest string\n",
    "languages = [\"Python\", \"C Programming\", \"Java\", \"JavaScript\"]\n",
    "largest_string = max(languages)\n",
    "print(\"The largest string is:\", largest_string)\n",
    "# Output: The largest string is: Python\n",
    "Using Key Parameter\n",
    "\n",
    "You can use the key parameter to specify a function to be called on each element before making comparisons.\n",
    "\n",
    "# Finding the longest string using key parameter\n",
    "string_list = [\"Geeks\", \"for\", \"Geek\"]\n",
    "max_val = max(string_list, key=len)\n",
    "print(max_val)\n",
    "# Output: Geeks\n",
    "Handling Empty Iterables\n",
    "\n",
    "If the iterable is empty, you can provide a default value to avoid a ValueError.\n",
    "\n",
    "# Providing a default value for an empty iterable\n",
    "dictionary = {}\n",
    "max_val = max(dictionary, default={1: \"Geek\"})\n",
    "print(max_val)\n",
    "# Output: {1: 'Geek'}\n",
    "Note: The max() function raises a TypeError if you try to compare items of different data types."
   ]
  }
 ],
 "metadata": {
  "kernelspec": {
   "display_name": "Python 3 (ipykernel)",
   "language": "python",
   "name": "python3"
  },
  "language_info": {
   "codemirror_mode": {
    "name": "ipython",
    "version": 3
   },
   "file_extension": ".py",
   "mimetype": "text/x-python",
   "name": "python",
   "nbconvert_exporter": "python",
   "pygments_lexer": "ipython3",
   "version": "3.11.5"
  }
 },
 "nbformat": 4,
 "nbformat_minor": 5
}
